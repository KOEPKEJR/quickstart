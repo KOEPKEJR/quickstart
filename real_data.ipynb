{
 "cells": [
  {
   "cell_type": "code",
   "execution_count": 1,
   "metadata": {},
   "outputs": [
    {
     "data": {
      "text/plain": [
       "True"
      ]
     },
     "execution_count": 1,
     "metadata": {},
     "output_type": "execute_result"
    }
   ],
   "source": [
    "# Imports\n",
    "# source /Users/tnappy/node_projects/quickstart/python/bin/activate\n",
    "# Read env vars from .env file\n",
    "import base64\n",
    "import os\n",
    "import datetime as dt\n",
    "import json\n",
    "import time\n",
    "\n",
    "from dotenv import load_dotenv\n",
    "from flask import Flask, request, jsonify\n",
    "import plaid\n",
    "from plaid.model.payment_amount import PaymentAmount\n",
    "from plaid.model.payment_amount_currency import PaymentAmountCurrency\n",
    "from plaid.model.products import Products\n",
    "from plaid.model.country_code import CountryCode\n",
    "from plaid.model.recipient_bacs_nullable import RecipientBACSNullable\n",
    "from plaid.model.payment_initiation_address import PaymentInitiationAddress\n",
    "from plaid.model.payment_initiation_recipient_create_request import (\n",
    "    PaymentInitiationRecipientCreateRequest,\n",
    ")\n",
    "from plaid.model.payment_initiation_payment_create_request import (\n",
    "    PaymentInitiationPaymentCreateRequest,\n",
    ")\n",
    "from plaid.model.payment_initiation_payment_get_request import (\n",
    "    PaymentInitiationPaymentGetRequest,\n",
    ")\n",
    "from plaid.model.link_token_create_request_payment_initiation import (\n",
    "    LinkTokenCreateRequestPaymentInitiation,\n",
    ")\n",
    "from plaid.model.item_public_token_exchange_request import (\n",
    "    ItemPublicTokenExchangeRequest,\n",
    ")\n",
    "from plaid.model.link_token_create_request import LinkTokenCreateRequest\n",
    "from plaid.model.link_token_create_request_user import LinkTokenCreateRequestUser\n",
    "from plaid.model.link_token_get_request import LinkTokenGetRequest\n",
    "from plaid.model.asset_report_create_request import AssetReportCreateRequest\n",
    "from plaid.model.asset_report_create_request_options import (\n",
    "    AssetReportCreateRequestOptions,\n",
    ")\n",
    "from plaid.model.asset_report_user import AssetReportUser\n",
    "from plaid.model.asset_report_get_request import AssetReportGetRequest\n",
    "from plaid.model.asset_report_pdf_get_request import AssetReportPDFGetRequest\n",
    "from plaid.model.auth_get_request import AuthGetRequest\n",
    "from plaid.model.transactions_sync_request import TransactionsSyncRequest\n",
    "from plaid.model.identity_get_request import IdentityGetRequest\n",
    "from plaid.model.investments_transactions_get_request_options import (\n",
    "    InvestmentsTransactionsGetRequestOptions,\n",
    ")\n",
    "from plaid.model.investments_transactions_get_request import (\n",
    "    InvestmentsTransactionsGetRequest,\n",
    ")\n",
    "from plaid.model.accounts_balance_get_request import AccountsBalanceGetRequest\n",
    "from plaid.model.accounts_get_request import AccountsGetRequest\n",
    "from plaid.model.investments_holdings_get_request import InvestmentsHoldingsGetRequest\n",
    "from plaid.model.item_get_request import ItemGetRequest\n",
    "from plaid.model.institutions_get_by_id_request import InstitutionsGetByIdRequest\n",
    "from plaid.model.transfer_authorization_create_request import (\n",
    "    TransferAuthorizationCreateRequest,\n",
    ")\n",
    "from plaid.model.transfer_create_request import TransferCreateRequest\n",
    "from plaid.model.transfer_get_request import TransferGetRequest\n",
    "from plaid.model.transfer_network import TransferNetwork\n",
    "from plaid.model.transfer_type import TransferType\n",
    "from plaid.model.transfer_authorization_user_in_request import (\n",
    "    TransferAuthorizationUserInRequest,\n",
    ")\n",
    "from plaid.model.ach_class import ACHClass\n",
    "from plaid.model.transfer_create_idempotency_key import TransferCreateIdempotencyKey\n",
    "from plaid.model.transfer_user_address_in_request import TransferUserAddressInRequest\n",
    "from plaid.api import plaid_api\n",
    "\n",
    "from decouple import config\n",
    "\n",
    "load_dotenv()"
   ]
  },
  {
   "cell_type": "code",
   "execution_count": 2,
   "metadata": {},
   "outputs": [],
   "source": [
    "# Fill in your Plaid API keys - https://dashboard.plaid.com/account/keys\n",
    "PLAID_CLIENT_ID = config(\"PLAID_CLIENT_ID\")\n",
    "PLAID_SECRET = config(\"PLAID_SECRET\")\n",
    "# Use 'sandbox' to test with Plaid's Sandbox environment (username: user_good,\n",
    "# password: pass_good)\n",
    "# Use `development` to test with live users and credentials and `production`\n",
    "# to go live\n",
    "PLAID_ENV = config(\"PLAID_ENV\", \"sandbox\")\n",
    "# PLAID_PRODUCTS is a comma-separated list of products to use when initializing\n",
    "# Link. Note that this list must contain 'assets' in order for the app to be\n",
    "# able to create and retrieve asset reports.\n",
    "PLAID_PRODUCTS = config(\"PLAID_PRODUCTS\", \"transactions\").split(\",\")\n",
    "\n",
    "# PLAID_COUNTRY_CODES is a comma-separated list of countries for which users\n",
    "# will be able to select institutions from.\n",
    "PLAID_COUNTRY_CODES = config(\"PLAID_COUNTRY_CODES\", \"US\").split(\",\")\n"
   ]
  },
  {
   "cell_type": "code",
   "execution_count": 3,
   "metadata": {},
   "outputs": [],
   "source": [
    "def empty_to_none(field):\n",
    "    value = os.getenv(field)\n",
    "    if value is None or len(value) == 0:\n",
    "        return None\n",
    "    return value"
   ]
  },
  {
   "cell_type": "code",
   "execution_count": 4,
   "metadata": {},
   "outputs": [],
   "source": [
    "host = plaid.Environment.Sandbox\n",
    "\n",
    "if PLAID_ENV == \"sandbox\":\n",
    "    host = plaid.Environment.Sandbox\n",
    "\n",
    "if PLAID_ENV == \"development\":\n",
    "    host = plaid.Environment.Development\n",
    "\n",
    "if PLAID_ENV == \"production\":\n",
    "    host = plaid.Environment.Production\n",
    "\n",
    "# Parameters used for the OAuth redirect Link flow.\n",
    "#\n",
    "# Set PLAID_REDIRECT_URI to 'http://localhost:3000/'\n",
    "# The OAuth redirect flow requires an endpoint on the developer's website\n",
    "# that the bank website should redirect to. You will need to configure\n",
    "# this redirect URI for your client ID through the Plaid developer dashboard\n",
    "# at https://dashboard.plaid.com/team/api.\n",
    "PLAID_REDIRECT_URI = empty_to_none(\"PLAID_REDIRECT_URI\")\n"
   ]
  },
  {
   "cell_type": "code",
   "execution_count": 5,
   "metadata": {},
   "outputs": [],
   "source": [
    "configuration = plaid.Configuration(\n",
    "    host=host,\n",
    "    api_key={\n",
    "        \"clientId\": PLAID_CLIENT_ID,\n",
    "        \"secret\": PLAID_SECRET,\n",
    "        \"plaidVersion\": \"2020-09-14\",\n",
    "    },\n",
    ")\n",
    "\n",
    "api_client = plaid.ApiClient(configuration)\n",
    "client = plaid_api.PlaidApi(api_client)\n",
    "\n",
    "products = []\n",
    "for product in PLAID_PRODUCTS:\n",
    "    products.append(Products(product))"
   ]
  },
  {
   "cell_type": "code",
   "execution_count": 6,
   "metadata": {},
   "outputs": [],
   "source": [
    "# We store the access_token in memory - in production, store it in a secure\n",
    "# persistent data store.\n",
    "access_token = None\n",
    "# The payment_id is only relevant for the UK Payment Initiation product.\n",
    "# We store the payment_id in memory - in production, store it in a secure\n",
    "# persistent data store.\n",
    "payment_id = None\n",
    "# The transfer_id is only relevant for Transfer ACH product.\n",
    "# We store the transfer_id in memory - in production, store it in a secure\n",
    "# persistent data store.\n",
    "transfer_id = None\n",
    "\n",
    "item_id = None"
   ]
  },
  {
   "cell_type": "code",
   "execution_count": 7,
   "metadata": {},
   "outputs": [
    {
     "data": {
      "text/plain": [
       "{'expiration': datetime.datetime(2023, 11, 3, 5, 32, 54, tzinfo=tzutc()),\n",
       " 'link_token': 'link-sandbox-50f22052-10eb-448c-953d-27461310ace9',\n",
       " 'request_id': 'dIG4QrmIPCxF5gX'}"
      ]
     },
     "execution_count": 7,
     "metadata": {},
     "output_type": "execute_result"
    }
   ],
   "source": [
    "# # https://plaid.com/docs/api/tokens/#linktokencreate\n",
    "# request = LinkTokenCreateRequest(\n",
    "#     products=products,\n",
    "#     client_name=\"Plaid Quickstart\",\n",
    "#     country_codes=list(map(lambda x: CountryCode(x), PLAID_COUNTRY_CODES)),\n",
    "#     language=\"en\",\n",
    "#     user=LinkTokenCreateRequestUser(client_user_id=str(time.time())),\n",
    "# )\n",
    "# if PLAID_REDIRECT_URI != None:\n",
    "#     request[\"redirect_uri\"] = PLAID_REDIRECT_URI\n",
    "\n",
    "\n",
    "# # create link token\n",
    "# response = client.link_token_create(request)\n",
    "# link_token = response[\"link_token\"]\n",
    "# response"
   ]
  },
  {
   "cell_type": "code",
   "execution_count": 8,
   "metadata": {
    "tags": []
   },
   "outputs": [
    {
     "data": {
      "text/plain": [
       "{'created_at': datetime.datetime(2023, 11, 3, 1, 32, 54, tzinfo=tzutc()),\n",
       " 'expiration': datetime.datetime(2023, 11, 3, 5, 32, 54, tzinfo=tzutc()),\n",
       " 'link_token': 'link-sandbox-50f22052-10eb-448c-953d-27461310ace9',\n",
       " 'metadata': {'client_name': 'Plaid Quickstart',\n",
       "              'country_codes': ['US', 'CA'],\n",
       "              'initial_products': ['auth', 'transactions'],\n",
       "              'language': 'en',\n",
       "              'redirect_uri': None,\n",
       "              'webhook': None},\n",
       " 'request_id': 'KweH7EBI9Y82ET8'}"
      ]
     },
     "execution_count": 8,
     "metadata": {},
     "output_type": "execute_result"
    }
   ],
   "source": [
    "# https://plaid.com/docs/api/tokens/#linktokenget\n",
    "request = LinkTokenGetRequest(link_token=link_token)\n",
    "response = client.link_token_get(request)\n",
    "response"
   ]
  },
  {
   "cell_type": "code",
   "execution_count": 9,
   "metadata": {},
   "outputs": [
    {
     "ename": "ApiException",
     "evalue": "Status Code: 400\nReason: Bad Request\nHTTP response headers: HTTPHeaderDict({'Server': 'nginx', 'Date': 'Fri, 03 Nov 2023 01:32:54 GMT', 'Content-Type': 'application/json; charset=utf-8', 'Content-Length': '336', 'Connection': 'keep-alive', 'plaid-version': '2020-09-14'})\nHTTP response body: {\n  \"display_message\": null,\n  \"documentation_url\": \"https://plaid.com/docs/?ref=error#invalid-input-errors\",\n  \"error_code\": \"INVALID_PUBLIC_TOKEN\",\n  \"error_message\": \"provided token is the wrong type. expected \\\"public\\\", got \\\"link\\\"\",\n  \"error_type\": \"INVALID_INPUT\",\n  \"request_id\": \"EKZcEGav0jmt502\",\n  \"suggested_action\": null\n}\n",
     "output_type": "error",
     "traceback": [
      "\u001b[0;31m---------------------------------------------------------------------------\u001b[0m",
      "\u001b[0;31mApiException\u001b[0m                              Traceback (most recent call last)",
      "\u001b[1;32m/home/ubuntu/Code/Containers/quickstart/test.ipynb Cell 9\u001b[0m line \u001b[0;36m4\n\u001b[1;32m      <a href='vscode-notebook-cell://ssh-remote%2B7b22686f73744e616d65223a224b4f45504b452d4d494e4932227d/home/ubuntu/Code/Containers/quickstart/test.ipynb#X11sdnNjb2RlLXJlbW90ZQ%3D%3D?line=1'>2</a>\u001b[0m public_token \u001b[39m=\u001b[39m link_token\n\u001b[1;32m      <a href='vscode-notebook-cell://ssh-remote%2B7b22686f73744e616d65223a224b4f45504b452d4d494e4932227d/home/ubuntu/Code/Containers/quickstart/test.ipynb#X11sdnNjb2RlLXJlbW90ZQ%3D%3D?line=2'>3</a>\u001b[0m request \u001b[39m=\u001b[39m ItemPublicTokenExchangeRequest(public_token\u001b[39m=\u001b[39mpublic_token)\n\u001b[0;32m----> <a href='vscode-notebook-cell://ssh-remote%2B7b22686f73744e616d65223a224b4f45504b452d4d494e4932227d/home/ubuntu/Code/Containers/quickstart/test.ipynb#X11sdnNjb2RlLXJlbW90ZQ%3D%3D?line=3'>4</a>\u001b[0m response \u001b[39m=\u001b[39m client\u001b[39m.\u001b[39;49mitem_public_token_exchange(request)\n\u001b[1;32m      <a href='vscode-notebook-cell://ssh-remote%2B7b22686f73744e616d65223a224b4f45504b452d4d494e4932227d/home/ubuntu/Code/Containers/quickstart/test.ipynb#X11sdnNjb2RlLXJlbW90ZQ%3D%3D?line=4'>5</a>\u001b[0m access_token \u001b[39m=\u001b[39m response[\u001b[39m'\u001b[39m\u001b[39maccess_token\u001b[39m\u001b[39m'\u001b[39m]\n\u001b[1;32m      <a href='vscode-notebook-cell://ssh-remote%2B7b22686f73744e616d65223a224b4f45504b452d4d494e4932227d/home/ubuntu/Code/Containers/quickstart/test.ipynb#X11sdnNjb2RlLXJlbW90ZQ%3D%3D?line=5'>6</a>\u001b[0m item_id \u001b[39m=\u001b[39m response[\u001b[39m'\u001b[39m\u001b[39mitem_id\u001b[39m\u001b[39m'\u001b[39m]\n",
      "File \u001b[0;32m~/Code/Containers/quickstart/venv/lib/python3.10/site-packages/plaid/api/plaid_api.py:18315\u001b[0m, in \u001b[0;36mPlaidApi.item_public_token_exchange\u001b[0;34m(self, item_public_token_exchange_request, **kwargs)\u001b[0m\n\u001b[1;32m  18312\u001b[0m kwargs[\u001b[39m'\u001b[39m\u001b[39m_request_auths\u001b[39m\u001b[39m'\u001b[39m] \u001b[39m=\u001b[39m kwargs\u001b[39m.\u001b[39mget(\u001b[39m'\u001b[39m\u001b[39m_request_auths\u001b[39m\u001b[39m'\u001b[39m, \u001b[39mNone\u001b[39;00m)\n\u001b[1;32m  18313\u001b[0m kwargs[\u001b[39m'\u001b[39m\u001b[39mitem_public_token_exchange_request\u001b[39m\u001b[39m'\u001b[39m] \u001b[39m=\u001b[39m \\\n\u001b[1;32m  18314\u001b[0m     item_public_token_exchange_request\n\u001b[0;32m> 18315\u001b[0m \u001b[39mreturn\u001b[39;00m \u001b[39mself\u001b[39;49m\u001b[39m.\u001b[39;49mitem_public_token_exchange_endpoint\u001b[39m.\u001b[39;49mcall_with_http_info(\u001b[39m*\u001b[39;49m\u001b[39m*\u001b[39;49mkwargs)\n",
      "File \u001b[0;32m~/Code/Containers/quickstart/venv/lib/python3.10/site-packages/plaid/api_client.py:879\u001b[0m, in \u001b[0;36mEndpoint.call_with_http_info\u001b[0;34m(self, **kwargs)\u001b[0m\n\u001b[1;32m    876\u001b[0m             \u001b[39mif\u001b[39;00m content_types_list:\n\u001b[1;32m    877\u001b[0m                 params[\u001b[39m'\u001b[39m\u001b[39mheader\u001b[39m\u001b[39m'\u001b[39m][\u001b[39m'\u001b[39m\u001b[39mContent-Type\u001b[39m\u001b[39m'\u001b[39m] \u001b[39m=\u001b[39m content_types_list\n\u001b[0;32m--> 879\u001b[0m \u001b[39mreturn\u001b[39;00m \u001b[39mself\u001b[39;49m\u001b[39m.\u001b[39;49mapi_client\u001b[39m.\u001b[39;49mcall_api(\n\u001b[1;32m    880\u001b[0m     \u001b[39mself\u001b[39;49m\u001b[39m.\u001b[39;49msettings[\u001b[39m'\u001b[39;49m\u001b[39mendpoint_path\u001b[39;49m\u001b[39m'\u001b[39;49m], \u001b[39mself\u001b[39;49m\u001b[39m.\u001b[39;49msettings[\u001b[39m'\u001b[39;49m\u001b[39mhttp_method\u001b[39;49m\u001b[39m'\u001b[39;49m],\n\u001b[1;32m    881\u001b[0m     params[\u001b[39m'\u001b[39;49m\u001b[39mpath\u001b[39;49m\u001b[39m'\u001b[39;49m],\n\u001b[1;32m    882\u001b[0m     params[\u001b[39m'\u001b[39;49m\u001b[39mquery\u001b[39;49m\u001b[39m'\u001b[39;49m],\n\u001b[1;32m    883\u001b[0m     params[\u001b[39m'\u001b[39;49m\u001b[39mheader\u001b[39;49m\u001b[39m'\u001b[39;49m],\n\u001b[1;32m    884\u001b[0m     body\u001b[39m=\u001b[39;49mparams[\u001b[39m'\u001b[39;49m\u001b[39mbody\u001b[39;49m\u001b[39m'\u001b[39;49m],\n\u001b[1;32m    885\u001b[0m     post_params\u001b[39m=\u001b[39;49mparams[\u001b[39m'\u001b[39;49m\u001b[39mform\u001b[39;49m\u001b[39m'\u001b[39;49m],\n\u001b[1;32m    886\u001b[0m     files\u001b[39m=\u001b[39;49mparams[\u001b[39m'\u001b[39;49m\u001b[39mfile\u001b[39;49m\u001b[39m'\u001b[39;49m],\n\u001b[1;32m    887\u001b[0m     response_type\u001b[39m=\u001b[39;49m\u001b[39mself\u001b[39;49m\u001b[39m.\u001b[39;49msettings[\u001b[39m'\u001b[39;49m\u001b[39mresponse_type\u001b[39;49m\u001b[39m'\u001b[39;49m],\n\u001b[1;32m    888\u001b[0m     auth_settings\u001b[39m=\u001b[39;49m\u001b[39mself\u001b[39;49m\u001b[39m.\u001b[39;49msettings[\u001b[39m'\u001b[39;49m\u001b[39mauth\u001b[39;49m\u001b[39m'\u001b[39;49m],\n\u001b[1;32m    889\u001b[0m     async_req\u001b[39m=\u001b[39;49mkwargs[\u001b[39m'\u001b[39;49m\u001b[39masync_req\u001b[39;49m\u001b[39m'\u001b[39;49m],\n\u001b[1;32m    890\u001b[0m     _check_type\u001b[39m=\u001b[39;49mkwargs[\u001b[39m'\u001b[39;49m\u001b[39m_check_return_type\u001b[39;49m\u001b[39m'\u001b[39;49m],\n\u001b[1;32m    891\u001b[0m     _return_http_data_only\u001b[39m=\u001b[39;49mkwargs[\u001b[39m'\u001b[39;49m\u001b[39m_return_http_data_only\u001b[39;49m\u001b[39m'\u001b[39;49m],\n\u001b[1;32m    892\u001b[0m     _preload_content\u001b[39m=\u001b[39;49mkwargs[\u001b[39m'\u001b[39;49m\u001b[39m_preload_content\u001b[39;49m\u001b[39m'\u001b[39;49m],\n\u001b[1;32m    893\u001b[0m     _request_timeout\u001b[39m=\u001b[39;49mkwargs[\u001b[39m'\u001b[39;49m\u001b[39m_request_timeout\u001b[39;49m\u001b[39m'\u001b[39;49m],\n\u001b[1;32m    894\u001b[0m     _host\u001b[39m=\u001b[39;49m_host,\n\u001b[1;32m    895\u001b[0m     _request_auths\u001b[39m=\u001b[39;49mkwargs[\u001b[39m'\u001b[39;49m\u001b[39m_request_auths\u001b[39;49m\u001b[39m'\u001b[39;49m],\n\u001b[1;32m    896\u001b[0m     collection_formats\u001b[39m=\u001b[39;49mparams[\u001b[39m'\u001b[39;49m\u001b[39mcollection_format\u001b[39;49m\u001b[39m'\u001b[39;49m])\n",
      "File \u001b[0;32m~/Code/Containers/quickstart/venv/lib/python3.10/site-packages/plaid/api_client.py:421\u001b[0m, in \u001b[0;36mApiClient.call_api\u001b[0;34m(self, resource_path, method, path_params, query_params, header_params, body, post_params, files, response_type, auth_settings, async_req, _return_http_data_only, collection_formats, _preload_content, _request_timeout, _host, _check_type, _request_auths)\u001b[0m\n\u001b[1;32m    363\u001b[0m \u001b[39m\u001b[39m\u001b[39m\"\"\"Makes the HTTP request (synchronous) and returns deserialized data.\u001b[39;00m\n\u001b[1;32m    364\u001b[0m \n\u001b[1;32m    365\u001b[0m \u001b[39mTo make an async_req request, set the async_req parameter.\u001b[39;00m\n\u001b[0;32m   (...)\u001b[0m\n\u001b[1;32m    418\u001b[0m \u001b[39m    then the method will return the response directly.\u001b[39;00m\n\u001b[1;32m    419\u001b[0m \u001b[39m\"\"\"\u001b[39;00m\n\u001b[1;32m    420\u001b[0m \u001b[39mif\u001b[39;00m \u001b[39mnot\u001b[39;00m async_req:\n\u001b[0;32m--> 421\u001b[0m     \u001b[39mreturn\u001b[39;00m \u001b[39mself\u001b[39;49m\u001b[39m.\u001b[39;49m__call_api(resource_path, method,\n\u001b[1;32m    422\u001b[0m                            path_params, query_params, header_params,\n\u001b[1;32m    423\u001b[0m                            body, post_params, files,\n\u001b[1;32m    424\u001b[0m                            response_type, auth_settings,\n\u001b[1;32m    425\u001b[0m                            _return_http_data_only, collection_formats,\n\u001b[1;32m    426\u001b[0m                            _preload_content, _request_timeout, _host,\n\u001b[1;32m    427\u001b[0m                            _check_type, _request_auths\u001b[39m=\u001b[39;49m_request_auths)\n\u001b[1;32m    429\u001b[0m \u001b[39mreturn\u001b[39;00m \u001b[39mself\u001b[39m\u001b[39m.\u001b[39mpool\u001b[39m.\u001b[39mapply_async(\u001b[39mself\u001b[39m\u001b[39m.\u001b[39m__call_api, (resource_path,\n\u001b[1;32m    430\u001b[0m                                                method, path_params,\n\u001b[1;32m    431\u001b[0m                                                query_params,\n\u001b[0;32m   (...)\u001b[0m\n\u001b[1;32m    439\u001b[0m                                                _request_timeout,\n\u001b[1;32m    440\u001b[0m                                                _host, _check_type, \u001b[39mNone\u001b[39;00m, _request_auths))\n",
      "File \u001b[0;32m~/Code/Containers/quickstart/venv/lib/python3.10/site-packages/plaid/api_client.py:205\u001b[0m, in \u001b[0;36mApiClient.__call_api\u001b[0;34m(self, resource_path, method, path_params, query_params, header_params, body, post_params, files, response_type, auth_settings, _return_http_data_only, collection_formats, _preload_content, _request_timeout, _host, _check_type, _content_type, _request_auths)\u001b[0m\n\u001b[1;32m    203\u001b[0m \u001b[39mexcept\u001b[39;00m ApiException \u001b[39mas\u001b[39;00m e:\n\u001b[1;32m    204\u001b[0m     e\u001b[39m.\u001b[39mbody \u001b[39m=\u001b[39m e\u001b[39m.\u001b[39mbody\u001b[39m.\u001b[39mdecode(\u001b[39m'\u001b[39m\u001b[39mutf-8\u001b[39m\u001b[39m'\u001b[39m)\n\u001b[0;32m--> 205\u001b[0m     \u001b[39mraise\u001b[39;00m e\n\u001b[1;32m    207\u001b[0m \u001b[39mself\u001b[39m\u001b[39m.\u001b[39mlast_response \u001b[39m=\u001b[39m response_data\n\u001b[1;32m    209\u001b[0m return_data \u001b[39m=\u001b[39m response_data\n",
      "File \u001b[0;32m~/Code/Containers/quickstart/venv/lib/python3.10/site-packages/plaid/api_client.py:198\u001b[0m, in \u001b[0;36mApiClient.__call_api\u001b[0;34m(self, resource_path, method, path_params, query_params, header_params, body, post_params, files, response_type, auth_settings, _return_http_data_only, collection_formats, _preload_content, _request_timeout, _host, _check_type, _content_type, _request_auths)\u001b[0m\n\u001b[1;32m    194\u001b[0m     url \u001b[39m=\u001b[39m _host \u001b[39m+\u001b[39m resource_path\n\u001b[1;32m    196\u001b[0m \u001b[39mtry\u001b[39;00m:\n\u001b[1;32m    197\u001b[0m     \u001b[39m# perform request and return response\u001b[39;00m\n\u001b[0;32m--> 198\u001b[0m     response_data \u001b[39m=\u001b[39m \u001b[39mself\u001b[39;49m\u001b[39m.\u001b[39;49mrequest(\n\u001b[1;32m    199\u001b[0m         method, url, query_params\u001b[39m=\u001b[39;49mquery_params, headers\u001b[39m=\u001b[39;49mheader_params,\n\u001b[1;32m    200\u001b[0m         post_params\u001b[39m=\u001b[39;49mpost_params, body\u001b[39m=\u001b[39;49mbody,\n\u001b[1;32m    201\u001b[0m         _preload_content\u001b[39m=\u001b[39;49m_preload_content,\n\u001b[1;32m    202\u001b[0m         _request_timeout\u001b[39m=\u001b[39;49m_request_timeout)\n\u001b[1;32m    203\u001b[0m \u001b[39mexcept\u001b[39;00m ApiException \u001b[39mas\u001b[39;00m e:\n\u001b[1;32m    204\u001b[0m     e\u001b[39m.\u001b[39mbody \u001b[39m=\u001b[39m e\u001b[39m.\u001b[39mbody\u001b[39m.\u001b[39mdecode(\u001b[39m'\u001b[39m\u001b[39mutf-8\u001b[39m\u001b[39m'\u001b[39m)\n",
      "File \u001b[0;32m~/Code/Containers/quickstart/venv/lib/python3.10/site-packages/plaid/api_client.py:467\u001b[0m, in \u001b[0;36mApiClient.request\u001b[0;34m(self, method, url, query_params, headers, post_params, body, _preload_content, _request_timeout)\u001b[0m\n\u001b[1;32m    459\u001b[0m     \u001b[39mreturn\u001b[39;00m \u001b[39mself\u001b[39m\u001b[39m.\u001b[39mrest_client\u001b[39m.\u001b[39mOPTIONS(url,\n\u001b[1;32m    460\u001b[0m                                     query_params\u001b[39m=\u001b[39mquery_params,\n\u001b[1;32m    461\u001b[0m                                     headers\u001b[39m=\u001b[39mheaders,\n\u001b[0;32m   (...)\u001b[0m\n\u001b[1;32m    464\u001b[0m                                     _request_timeout\u001b[39m=\u001b[39m_request_timeout,\n\u001b[1;32m    465\u001b[0m                                     body\u001b[39m=\u001b[39mbody)\n\u001b[1;32m    466\u001b[0m \u001b[39melif\u001b[39;00m method \u001b[39m==\u001b[39m \u001b[39m\"\u001b[39m\u001b[39mPOST\u001b[39m\u001b[39m\"\u001b[39m:\n\u001b[0;32m--> 467\u001b[0m     \u001b[39mreturn\u001b[39;00m \u001b[39mself\u001b[39;49m\u001b[39m.\u001b[39;49mrest_client\u001b[39m.\u001b[39;49mPOST(url,\n\u001b[1;32m    468\u001b[0m                                  query_params\u001b[39m=\u001b[39;49mquery_params,\n\u001b[1;32m    469\u001b[0m                                  headers\u001b[39m=\u001b[39;49mheaders,\n\u001b[1;32m    470\u001b[0m                                  post_params\u001b[39m=\u001b[39;49mpost_params,\n\u001b[1;32m    471\u001b[0m                                  _preload_content\u001b[39m=\u001b[39;49m_preload_content,\n\u001b[1;32m    472\u001b[0m                                  _request_timeout\u001b[39m=\u001b[39;49m_request_timeout,\n\u001b[1;32m    473\u001b[0m                                  body\u001b[39m=\u001b[39;49mbody)\n\u001b[1;32m    474\u001b[0m \u001b[39melif\u001b[39;00m method \u001b[39m==\u001b[39m \u001b[39m\"\u001b[39m\u001b[39mPUT\u001b[39m\u001b[39m\"\u001b[39m:\n\u001b[1;32m    475\u001b[0m     \u001b[39mreturn\u001b[39;00m \u001b[39mself\u001b[39m\u001b[39m.\u001b[39mrest_client\u001b[39m.\u001b[39mPUT(url,\n\u001b[1;32m    476\u001b[0m                                 query_params\u001b[39m=\u001b[39mquery_params,\n\u001b[1;32m    477\u001b[0m                                 headers\u001b[39m=\u001b[39mheaders,\n\u001b[0;32m   (...)\u001b[0m\n\u001b[1;32m    480\u001b[0m                                 _request_timeout\u001b[39m=\u001b[39m_request_timeout,\n\u001b[1;32m    481\u001b[0m                                 body\u001b[39m=\u001b[39mbody)\n",
      "File \u001b[0;32m~/Code/Containers/quickstart/venv/lib/python3.10/site-packages/plaid/rest.py:270\u001b[0m, in \u001b[0;36mRESTClientObject.POST\u001b[0;34m(self, url, headers, query_params, post_params, body, _preload_content, _request_timeout)\u001b[0m\n\u001b[1;32m    268\u001b[0m \u001b[39mdef\u001b[39;00m \u001b[39mPOST\u001b[39m(\u001b[39mself\u001b[39m, url, headers\u001b[39m=\u001b[39m\u001b[39mNone\u001b[39;00m, query_params\u001b[39m=\u001b[39m\u001b[39mNone\u001b[39;00m, post_params\u001b[39m=\u001b[39m\u001b[39mNone\u001b[39;00m,\n\u001b[1;32m    269\u001b[0m          body\u001b[39m=\u001b[39m\u001b[39mNone\u001b[39;00m, _preload_content\u001b[39m=\u001b[39m\u001b[39mTrue\u001b[39;00m, _request_timeout\u001b[39m=\u001b[39m\u001b[39mNone\u001b[39;00m):\n\u001b[0;32m--> 270\u001b[0m     \u001b[39mreturn\u001b[39;00m \u001b[39mself\u001b[39;49m\u001b[39m.\u001b[39;49mrequest(\u001b[39m\"\u001b[39;49m\u001b[39mPOST\u001b[39;49m\u001b[39m\"\u001b[39;49m, url,\n\u001b[1;32m    271\u001b[0m                         headers\u001b[39m=\u001b[39;49mheaders,\n\u001b[1;32m    272\u001b[0m                         query_params\u001b[39m=\u001b[39;49mquery_params,\n\u001b[1;32m    273\u001b[0m                         post_params\u001b[39m=\u001b[39;49mpost_params,\n\u001b[1;32m    274\u001b[0m                         _preload_content\u001b[39m=\u001b[39;49m_preload_content,\n\u001b[1;32m    275\u001b[0m                         _request_timeout\u001b[39m=\u001b[39;49m_request_timeout,\n\u001b[1;32m    276\u001b[0m                         body\u001b[39m=\u001b[39;49mbody)\n",
      "File \u001b[0;32m~/Code/Containers/quickstart/venv/lib/python3.10/site-packages/plaid/rest.py:229\u001b[0m, in \u001b[0;36mRESTClientObject.request\u001b[0;34m(self, method, url, query_params, headers, body, post_params, _preload_content, _request_timeout)\u001b[0m\n\u001b[1;32m    226\u001b[0m     \u001b[39mif\u001b[39;00m \u001b[39m500\u001b[39m \u001b[39m<\u001b[39m\u001b[39m=\u001b[39m r\u001b[39m.\u001b[39mstatus \u001b[39m<\u001b[39m\u001b[39m=\u001b[39m \u001b[39m599\u001b[39m:\n\u001b[1;32m    227\u001b[0m         \u001b[39mraise\u001b[39;00m ServiceException(http_resp\u001b[39m=\u001b[39mr)\n\u001b[0;32m--> 229\u001b[0m     \u001b[39mraise\u001b[39;00m ApiException(http_resp\u001b[39m=\u001b[39mr)\n\u001b[1;32m    231\u001b[0m \u001b[39mreturn\u001b[39;00m r\n",
      "\u001b[0;31mApiException\u001b[0m: Status Code: 400\nReason: Bad Request\nHTTP response headers: HTTPHeaderDict({'Server': 'nginx', 'Date': 'Fri, 03 Nov 2023 01:32:54 GMT', 'Content-Type': 'application/json; charset=utf-8', 'Content-Length': '336', 'Connection': 'keep-alive', 'plaid-version': '2020-09-14'})\nHTTP response body: {\n  \"display_message\": null,\n  \"documentation_url\": \"https://plaid.com/docs/?ref=error#invalid-input-errors\",\n  \"error_code\": \"INVALID_PUBLIC_TOKEN\",\n  \"error_message\": \"provided token is the wrong type. expected \\\"public\\\", got \\\"link\\\"\",\n  \"error_type\": \"INVALID_INPUT\",\n  \"request_id\": \"EKZcEGav0jmt502\",\n  \"suggested_action\": null\n}\n"
     ]
    }
   ],
   "source": [
    "# https://plaid.com/docs/api/tokens/#itempublic_tokenexchange\n",
    "public_token = link_token\n",
    "request = ItemPublicTokenExchangeRequest(public_token=public_token)\n",
    "response = client.item_public_token_exchange(request)\n",
    "access_token = response['access_token']\n",
    "item_id = response['item_id']"
   ]
  },
  {
   "cell_type": "code",
   "execution_count": 10,
   "metadata": {},
   "outputs": [
    {
     "data": {
      "text/plain": [
       "{'accounts': [{'account_id': 'xvBmMrq6GBurq6pZMWrwSl5JZ6Rgbvc6jM5BA',\n",
       "               'balances': {'available': 100.0,\n",
       "                            'current': 110.0,\n",
       "                            'iso_currency_code': 'USD',\n",
       "                            'limit': None,\n",
       "                            'unofficial_currency_code': None},\n",
       "               'mask': '0000',\n",
       "               'name': 'Plaid Checking',\n",
       "               'official_name': 'Plaid Gold Standard 0% Interest Checking',\n",
       "               'subtype': 'checking',\n",
       "               'type': 'depository'},\n",
       "              {'account_id': 'd1d9bwXRkdtA6yaV5PAjcKkDBob5E7CJKy8aG',\n",
       "               'balances': {'available': 200.0,\n",
       "                            'current': 210.0,\n",
       "                            'iso_currency_code': 'USD',\n",
       "                            'limit': None,\n",
       "                            'unofficial_currency_code': None},\n",
       "               'mask': '1111',\n",
       "               'name': 'Plaid Saving',\n",
       "               'official_name': 'Plaid Silver Standard 0.1% Interest Saving',\n",
       "               'subtype': 'savings',\n",
       "               'type': 'depository'}],\n",
       " 'item': {'available_products': ['assets',\n",
       "                                 'balance',\n",
       "                                 'signal',\n",
       "                                 'identity',\n",
       "                                 'investments',\n",
       "                                 'liabilities'],\n",
       "          'billed_products': ['auth', 'transactions'],\n",
       "          'consent_expiration_time': None,\n",
       "          'error': None,\n",
       "          'institution_id': 'ins_56',\n",
       "          'item_id': 'QlVAyJMRdVFKQj9XEmK8cRyrZamB4GcpAm1rB',\n",
       "          'products': ['auth', 'transactions'],\n",
       "          'update_type': 'background',\n",
       "          'webhook': ''},\n",
       " 'request_id': 'Skgv51CWyXCO9Pk'}"
      ]
     },
     "execution_count": 10,
     "metadata": {},
     "output_type": "execute_result"
    }
   ],
   "source": [
    "# Get accounts from account_token\n",
    "access_token = 'access-sandbox-b0297160-7715-41ca-abb8-44a8f5dc7d9e'\n",
    "request = AccountsGetRequest(access_token=access_token)\n",
    "response = client.accounts_get(request)\n",
    "accounts = response['accounts']\n",
    "response"
   ]
  },
  {
   "cell_type": "code",
   "execution_count": 11,
   "metadata": {},
   "outputs": [
    {
     "data": {
      "text/plain": [
       "{'item': {'available_products': ['assets',\n",
       "                                 'balance',\n",
       "                                 'signal',\n",
       "                                 'identity',\n",
       "                                 'investments',\n",
       "                                 'liabilities'],\n",
       "          'billed_products': ['auth', 'transactions'],\n",
       "          'consent_expiration_time': None,\n",
       "          'error': None,\n",
       "          'institution_id': 'ins_56',\n",
       "          'item_id': 'QlVAyJMRdVFKQj9XEmK8cRyrZamB4GcpAm1rB',\n",
       "          'products': ['auth', 'transactions'],\n",
       "          'update_type': 'background',\n",
       "          'webhook': ''},\n",
       " 'request_id': '7Krv7wxttccsFbc',\n",
       " 'status': {'last_webhook': None,\n",
       "            'transactions': {'last_failed_update': None,\n",
       "                             'last_successful_update': datetime.datetime(2023, 11, 3, 1, 13, 42, 355000, tzinfo=tzutc())}}}"
      ]
     },
     "execution_count": 11,
     "metadata": {},
     "output_type": "execute_result"
    }
   ],
   "source": [
    "request = ItemGetRequest(access_token=access_token)\n",
    "response = client.item_get(request)\n",
    "item = response['item']\n",
    "status = response['status']\n",
    "response"
   ]
  },
  {
   "cell_type": "code",
   "execution_count": 13,
   "metadata": {},
   "outputs": [
    {
     "data": {
      "text/plain": [
       "{'accounts': [{'account_id': 'xvBmMrq6GBurq6pZMWrwSl5JZ6Rgbvc6jM5BA',\n",
       "               'balances': {'available': 100.0,\n",
       "                            'current': 110.0,\n",
       "                            'iso_currency_code': 'USD',\n",
       "                            'limit': None,\n",
       "                            'unofficial_currency_code': None},\n",
       "               'mask': '0000',\n",
       "               'name': 'Plaid Checking',\n",
       "               'official_name': 'Plaid Gold Standard 0% Interest Checking',\n",
       "               'subtype': 'checking',\n",
       "               'type': 'depository'},\n",
       "              {'account_id': 'd1d9bwXRkdtA6yaV5PAjcKkDBob5E7CJKy8aG',\n",
       "               'balances': {'available': 200.0,\n",
       "                            'current': 210.0,\n",
       "                            'iso_currency_code': 'USD',\n",
       "                            'limit': None,\n",
       "                            'unofficial_currency_code': None},\n",
       "               'mask': '1111',\n",
       "               'name': 'Plaid Saving',\n",
       "               'official_name': 'Plaid Silver Standard 0.1% Interest Saving',\n",
       "               'subtype': 'savings',\n",
       "               'type': 'depository'}],\n",
       " 'item': {'available_products': ['assets',\n",
       "                                 'balance',\n",
       "                                 'signal',\n",
       "                                 'identity',\n",
       "                                 'investments',\n",
       "                                 'liabilities'],\n",
       "          'billed_products': ['auth', 'transactions'],\n",
       "          'consent_expiration_time': None,\n",
       "          'error': None,\n",
       "          'institution_id': 'ins_56',\n",
       "          'item_id': 'QlVAyJMRdVFKQj9XEmK8cRyrZamB4GcpAm1rB',\n",
       "          'products': ['auth', 'transactions'],\n",
       "          'update_type': 'background',\n",
       "          'webhook': ''},\n",
       " 'request_id': 'SXKTXnKTizqrj1x'}"
      ]
     },
     "execution_count": 13,
     "metadata": {},
     "output_type": "execute_result"
    }
   ],
   "source": [
    "# This is a slower update\n",
    "request = AccountsGetRequest(access_token=access_token)\n",
    "response = client.accounts_get(request)\n",
    "accounts = response['accounts']\n",
    "response"
   ]
  }
 ],
 "metadata": {
  "kernelspec": {
   "display_name": "venv",
   "language": "python",
   "name": "python3"
  },
  "language_info": {
   "codemirror_mode": {
    "name": "ipython",
    "version": 3
   },
   "file_extension": ".py",
   "mimetype": "text/x-python",
   "name": "python",
   "nbconvert_exporter": "python",
   "pygments_lexer": "ipython3",
   "version": "3.10.12"
  }
 },
 "nbformat": 4,
 "nbformat_minor": 2
}
